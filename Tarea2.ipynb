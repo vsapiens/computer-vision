{
  "nbformat": 4,
  "nbformat_minor": 0,
  "metadata": {
    "colab": {
      "name": "Tarea1.ipynb",
      "provenance": []
    },
    "kernelspec": {
      "name": "python3",
      "display_name": "Python 3.8.4 64-bit ('env')",
      "metadata": {
        "interpreter": {
          "hash": "80091ee06c5ac69fcf72863906702e1cc784191efa9bb13424f276e8fe57a589"
        }
      }
    }
  },
  "cells": [
    {
      "cell_type": "code",
      "metadata": {
        "colab": {
          "base_uri": "https://localhost:8080/"
        },
        "id": "A9NE4E3zpUzN",
        "outputId": "fbc25066-969c-470c-a1e7-afd0d49342ba"
      },
      "source": [
        "import numpy as np\n",
        "import pandas as pd\n",
        "store_inventory = {'Jabón': [10,15], 'Papel': [12,25], 'Guantes': [30,50], 'Medicina' : [40,350]}\n",
        "inventory = pd.Series(store_inventory)\n",
        "print('1-\\n',inventory)\n",
        "Game_reviews = [['Zelda','MHGU','Smash','The last of us 2'],['8.6','8.5','8.7','3.4']]\n",
        "reviews = pd.DataFrame(Game_reviews)\n",
        "print('2-\\n',reviews)\n",
        "url = 'https://raw.githubusercontent.com/vsapiens/computer-vision/main/Data/pokemon.csv'\n",
        "pokemon = pd.read_csv(url)\n",
        "print('3-\\n',pokemon.head(9))\n",
        "print('4-\\n',pokemon.tail(2))\n",
        "pokemonWithIndex = pd.read_csv(url,index_col=0)\n",
        "print('5-\\n',pokemonWithIndex.head(5))\n",
        "print('6-\\n',pokemonWithIndex.iloc[25])\n",
        "print('7-\\n',pokemonWithIndex.loc[pokemonWithIndex['Name']=='Jolteon'])\n",
        "print('8-\\n',pokemonWithIndex.loc[pokemonWithIndex['Type 1']=='Dragon'])\n",
        "print('9-\\n',pokemonWithIndex.loc[pokemonWithIndex['HP'] > 120])\n",
        "print('10-\\n',pokemonWithIndex.loc[pokemonWithIndex['Legendary'], ['Name','Attack','Defense']])"
      ],
      "execution_count": 1,
      "outputs": [
        {
          "output_type": "error",
          "ename": "ModuleNotFoundError",
          "evalue": "No module named 'numpy'",
          "traceback": [
            "\u001b[0;31m---------------------------------------------------------------------------\u001b[0m",
            "\u001b[0;31mModuleNotFoundError\u001b[0m                       Traceback (most recent call last)",
            "\u001b[0;32m<ipython-input-1-9155c65249a7>\u001b[0m in \u001b[0;36m<module>\u001b[0;34m\u001b[0m\n\u001b[0;32m----> 1\u001b[0;31m \u001b[0;32mimport\u001b[0m \u001b[0mnumpy\u001b[0m \u001b[0;32mas\u001b[0m \u001b[0mnp\u001b[0m\u001b[0;34m\u001b[0m\u001b[0;34m\u001b[0m\u001b[0m\n\u001b[0m\u001b[1;32m      2\u001b[0m \u001b[0;32mimport\u001b[0m \u001b[0mpandas\u001b[0m \u001b[0;32mas\u001b[0m \u001b[0mpd\u001b[0m\u001b[0;34m\u001b[0m\u001b[0;34m\u001b[0m\u001b[0m\n\u001b[1;32m      3\u001b[0m \u001b[0mstore_inventory\u001b[0m \u001b[0;34m=\u001b[0m \u001b[0;34m{\u001b[0m\u001b[0;34m'Jabón'\u001b[0m\u001b[0;34m:\u001b[0m \u001b[0;34m[\u001b[0m\u001b[0;36m10\u001b[0m\u001b[0;34m,\u001b[0m\u001b[0;36m15\u001b[0m\u001b[0;34m]\u001b[0m\u001b[0;34m,\u001b[0m \u001b[0;34m'Papel'\u001b[0m\u001b[0;34m:\u001b[0m \u001b[0;34m[\u001b[0m\u001b[0;36m12\u001b[0m\u001b[0;34m,\u001b[0m\u001b[0;36m25\u001b[0m\u001b[0;34m]\u001b[0m\u001b[0;34m,\u001b[0m \u001b[0;34m'Guantes'\u001b[0m\u001b[0;34m:\u001b[0m \u001b[0;34m[\u001b[0m\u001b[0;36m30\u001b[0m\u001b[0;34m,\u001b[0m\u001b[0;36m50\u001b[0m\u001b[0;34m]\u001b[0m\u001b[0;34m,\u001b[0m \u001b[0;34m'Medicina'\u001b[0m \u001b[0;34m:\u001b[0m \u001b[0;34m[\u001b[0m\u001b[0;36m40\u001b[0m\u001b[0;34m,\u001b[0m\u001b[0;36m350\u001b[0m\u001b[0;34m]\u001b[0m\u001b[0;34m}\u001b[0m\u001b[0;34m\u001b[0m\u001b[0;34m\u001b[0m\u001b[0m\n\u001b[1;32m      4\u001b[0m \u001b[0minventory\u001b[0m \u001b[0;34m=\u001b[0m \u001b[0mpd\u001b[0m\u001b[0;34m.\u001b[0m\u001b[0mSeries\u001b[0m\u001b[0;34m(\u001b[0m\u001b[0mstore_inventory\u001b[0m\u001b[0;34m)\u001b[0m\u001b[0;34m\u001b[0m\u001b[0;34m\u001b[0m\u001b[0m\n\u001b[1;32m      5\u001b[0m \u001b[0mprint\u001b[0m\u001b[0;34m(\u001b[0m\u001b[0;34m'1-\\n'\u001b[0m\u001b[0;34m,\u001b[0m\u001b[0minventory\u001b[0m\u001b[0;34m)\u001b[0m\u001b[0;34m\u001b[0m\u001b[0;34m\u001b[0m\u001b[0m\n",
            "\u001b[0;31mModuleNotFoundError\u001b[0m: No module named 'numpy'"
          ]
        }
      ]
    }
  ]
}